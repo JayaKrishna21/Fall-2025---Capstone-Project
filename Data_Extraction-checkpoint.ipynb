{
 "cells": [
  {
   "cell_type": "markdown",
   "id": "5759e8f4-40ce-458b-8b97-b42d1bae676a",
   "metadata": {},
   "source": [
    "# US Census Dataset"
   ]
  },
  {
   "cell_type": "code",
   "execution_count": 1,
   "id": "3700fd0e-0ebb-48db-b681-c301d2c4eacf",
   "metadata": {},
   "outputs": [],
   "source": [
    "import censusdata as cd\n",
    "import pandas as pd\n",
    "from tqdm import tqdm"
   ]
  },
  {
   "cell_type": "code",
   "execution_count": 2,
   "id": "139a7e26-5f61-4a2a-915d-f232f5989ee4",
   "metadata": {},
   "outputs": [],
   "source": [
    "state_fips_list = [\n",
    "    '01','02','04','05','06','08','09','10','12','13','15','16','17','18','19','20',\n",
    "    '21','22','23','24','25','26','27','28','29','30','31','32','33','34','35','36',\n",
    "    '37','38','39','40','41','42','44','45','46','47','48','49','50','51','53','54',\n",
    "    '55','56'\n",
    "]"
   ]
  },
  {
   "cell_type": "code",
   "execution_count": 3,
   "id": "eb24f0d8-ab49-42fa-a031-16223b8c3275",
   "metadata": {},
   "outputs": [],
   "source": [
    "def get_state_tracts(state_fips, year=2022, dataset='acs5'):\n",
    "    geo = cd.censusgeo([('state', state_fips), ('county', '*'), ('tract', '*')])\n",
    "    vars = [\n",
    "        'B19013_001E',   # Median household income\n",
    "        'B01003_001E',   # Total population\n",
    "        'B17001_002E',   # Below-poverty population\n",
    "        'B15003_001E',   # Total education count\n",
    "        'B15003_022E','B15003_023E','B15003_024E','B15003_025E'  # Bachelor's+\n",
    "    ]\n",
    "    df = cd.download(dataset, year, geo, vars).reset_index()\n",
    "    df['state_fips']  = state_fips\n",
    "    df['county_fips'] = df['index'].apply(lambda x: x.geo[1][1])\n",
    "    df['tract_id']    = df['index'].apply(lambda x: x.geo[2][1])\n",
    "    return df\n"
   ]
  },
  {
   "cell_type": "code",
   "execution_count": 4,
   "id": "d843d6a0-304a-4e15-99ef-8ce3fd3c4a53",
   "metadata": {},
   "outputs": [
    {
     "name": "stderr",
     "output_type": "stream",
     "text": [
      "Downloading ACS data by state:   2%|█                                                   | 1/50 [00:01<01:12,  1.48s/it]"
     ]
    },
    {
     "name": "stdout",
     "output_type": "stream",
     "text": [
      "✅ State 01: 1437 tracts fetched\n"
     ]
    },
    {
     "name": "stderr",
     "output_type": "stream",
     "text": [
      "Downloading ACS data by state:   4%|██                                                  | 2/50 [00:02<00:46,  1.03it/s]"
     ]
    },
    {
     "name": "stdout",
     "output_type": "stream",
     "text": [
      "✅ State 02: 177 tracts fetched\n"
     ]
    },
    {
     "name": "stderr",
     "output_type": "stream",
     "text": [
      "Downloading ACS data by state:   6%|███                                                 | 3/50 [00:03<00:49,  1.04s/it]"
     ]
    },
    {
     "name": "stdout",
     "output_type": "stream",
     "text": [
      "✅ State 04: 1765 tracts fetched\n"
     ]
    },
    {
     "name": "stderr",
     "output_type": "stream",
     "text": [
      "Downloading ACS data by state:   8%|████▏                                               | 4/50 [00:03<00:41,  1.10it/s]"
     ]
    },
    {
     "name": "stdout",
     "output_type": "stream",
     "text": [
      "✅ State 05: 823 tracts fetched\n"
     ]
    },
    {
     "name": "stderr",
     "output_type": "stream",
     "text": [
      "Downloading ACS data by state:  10%|█████▏                                              | 5/50 [00:06<00:59,  1.33s/it]"
     ]
    },
    {
     "name": "stdout",
     "output_type": "stream",
     "text": [
      "✅ State 06: 9129 tracts fetched\n"
     ]
    },
    {
     "name": "stderr",
     "output_type": "stream",
     "text": [
      "Downloading ACS data by state:  12%|██████▏                                             | 6/50 [00:07<00:53,  1.22s/it]"
     ]
    },
    {
     "name": "stdout",
     "output_type": "stream",
     "text": [
      "✅ State 08: 1447 tracts fetched\n"
     ]
    },
    {
     "name": "stderr",
     "output_type": "stream",
     "text": [
      "Downloading ACS data by state:  14%|███████▎                                            | 7/50 [00:07<00:46,  1.07s/it]"
     ]
    },
    {
     "name": "stdout",
     "output_type": "stream",
     "text": [
      "✅ State 09: 884 tracts fetched\n"
     ]
    },
    {
     "name": "stderr",
     "output_type": "stream",
     "text": [
      "Downloading ACS data by state:  16%|████████▎                                           | 8/50 [00:08<00:40,  1.02it/s]"
     ]
    },
    {
     "name": "stdout",
     "output_type": "stream",
     "text": [
      "✅ State 10: 262 tracts fetched\n"
     ]
    },
    {
     "name": "stderr",
     "output_type": "stream",
     "text": [
      "Downloading ACS data by state:  18%|█████████▎                                          | 9/50 [00:10<00:47,  1.15s/it]"
     ]
    },
    {
     "name": "stdout",
     "output_type": "stream",
     "text": [
      "✅ State 12: 5160 tracts fetched\n"
     ]
    },
    {
     "name": "stderr",
     "output_type": "stream",
     "text": [
      "Downloading ACS data by state:  20%|██████████▏                                        | 10/50 [00:11<00:46,  1.15s/it]"
     ]
    },
    {
     "name": "stdout",
     "output_type": "stream",
     "text": [
      "✅ State 13: 2796 tracts fetched\n"
     ]
    },
    {
     "name": "stderr",
     "output_type": "stream",
     "text": [
      "Downloading ACS data by state:  22%|███████████▏                                       | 11/50 [00:12<00:40,  1.05s/it]"
     ]
    },
    {
     "name": "stdout",
     "output_type": "stream",
     "text": [
      "✅ State 15: 461 tracts fetched\n"
     ]
    },
    {
     "name": "stderr",
     "output_type": "stream",
     "text": [
      "Downloading ACS data by state:  24%|████████████▏                                      | 12/50 [00:12<00:37,  1.03it/s]"
     ]
    },
    {
     "name": "stdout",
     "output_type": "stream",
     "text": [
      "✅ State 16: 456 tracts fetched\n"
     ]
    },
    {
     "name": "stderr",
     "output_type": "stream",
     "text": [
      "Downloading ACS data by state:  26%|█████████████▎                                     | 13/50 [00:14<00:40,  1.09s/it]"
     ]
    },
    {
     "name": "stdout",
     "output_type": "stream",
     "text": [
      "✅ State 17: 3265 tracts fetched\n"
     ]
    },
    {
     "name": "stderr",
     "output_type": "stream",
     "text": [
      "Downloading ACS data by state:  28%|██████████████▎                                    | 14/50 [00:15<00:38,  1.08s/it]"
     ]
    },
    {
     "name": "stdout",
     "output_type": "stream",
     "text": [
      "✅ State 18: 1696 tracts fetched\n"
     ]
    },
    {
     "name": "stderr",
     "output_type": "stream",
     "text": [
      "Downloading ACS data by state:  30%|███████████████▎                                   | 15/50 [00:16<00:36,  1.03s/it]"
     ]
    },
    {
     "name": "stdout",
     "output_type": "stream",
     "text": [
      "✅ State 19: 896 tracts fetched\n"
     ]
    },
    {
     "name": "stderr",
     "output_type": "stream",
     "text": [
      "Downloading ACS data by state:  32%|████████████████▎                                  | 16/50 [00:17<00:32,  1.04it/s]"
     ]
    },
    {
     "name": "stdout",
     "output_type": "stream",
     "text": [
      "✅ State 20: 829 tracts fetched\n"
     ]
    },
    {
     "name": "stderr",
     "output_type": "stream",
     "text": [
      "Downloading ACS data by state:  34%|█████████████████▎                                 | 17/50 [00:17<00:31,  1.06it/s]"
     ]
    },
    {
     "name": "stdout",
     "output_type": "stream",
     "text": [
      "✅ State 21: 1306 tracts fetched\n"
     ]
    },
    {
     "name": "stderr",
     "output_type": "stream",
     "text": [
      "Downloading ACS data by state:  36%|██████████████████▎                                | 18/50 [00:18<00:29,  1.10it/s]"
     ]
    },
    {
     "name": "stdout",
     "output_type": "stream",
     "text": [
      "✅ State 22: 1388 tracts fetched\n"
     ]
    },
    {
     "name": "stderr",
     "output_type": "stream",
     "text": [
      "Downloading ACS data by state:  38%|███████████████████▍                               | 19/50 [00:19<00:26,  1.19it/s]"
     ]
    },
    {
     "name": "stdout",
     "output_type": "stream",
     "text": [
      "✅ State 23: 407 tracts fetched\n"
     ]
    },
    {
     "name": "stderr",
     "output_type": "stream",
     "text": [
      "Downloading ACS data by state:  40%|████████████████████▍                              | 20/50 [00:20<00:26,  1.14it/s]"
     ]
    },
    {
     "name": "stdout",
     "output_type": "stream",
     "text": [
      "✅ State 24: 1475 tracts fetched\n"
     ]
    },
    {
     "name": "stderr",
     "output_type": "stream",
     "text": [
      "Downloading ACS data by state:  42%|█████████████████████▍                             | 21/50 [00:21<00:26,  1.08it/s]"
     ]
    },
    {
     "name": "stdout",
     "output_type": "stream",
     "text": [
      "✅ State 25: 1620 tracts fetched\n"
     ]
    },
    {
     "name": "stderr",
     "output_type": "stream",
     "text": [
      "Downloading ACS data by state:  44%|██████████████████████▍                            | 22/50 [00:22<00:29,  1.05s/it]"
     ]
    },
    {
     "name": "stdout",
     "output_type": "stream",
     "text": [
      "✅ State 26: 3017 tracts fetched\n"
     ]
    },
    {
     "name": "stderr",
     "output_type": "stream",
     "text": [
      "Downloading ACS data by state:  46%|███████████████████████▍                           | 23/50 [00:23<00:26,  1.00it/s]"
     ]
    },
    {
     "name": "stdout",
     "output_type": "stream",
     "text": [
      "✅ State 27: 1505 tracts fetched\n"
     ]
    },
    {
     "name": "stderr",
     "output_type": "stream",
     "text": [
      "Downloading ACS data by state:  48%|████████████████████████▍                          | 24/50 [00:24<00:23,  1.09it/s]"
     ]
    },
    {
     "name": "stdout",
     "output_type": "stream",
     "text": [
      "✅ State 28: 878 tracts fetched\n"
     ]
    },
    {
     "name": "stderr",
     "output_type": "stream",
     "text": [
      "Downloading ACS data by state:  50%|█████████████████████████▌                         | 25/50 [00:25<00:22,  1.09it/s]"
     ]
    },
    {
     "name": "stdout",
     "output_type": "stream",
     "text": [
      "✅ State 29: 1654 tracts fetched\n"
     ]
    },
    {
     "name": "stderr",
     "output_type": "stream",
     "text": [
      "Downloading ACS data by state:  52%|██████████████████████████▌                        | 26/50 [00:25<00:20,  1.18it/s]"
     ]
    },
    {
     "name": "stdout",
     "output_type": "stream",
     "text": [
      "✅ State 30: 319 tracts fetched\n"
     ]
    },
    {
     "name": "stderr",
     "output_type": "stream",
     "text": [
      "Downloading ACS data by state:  54%|███████████████████████████▌                       | 27/50 [00:26<00:17,  1.29it/s]"
     ]
    },
    {
     "name": "stdout",
     "output_type": "stream",
     "text": [
      "✅ State 31: 553 tracts fetched\n"
     ]
    },
    {
     "name": "stderr",
     "output_type": "stream",
     "text": [
      "Downloading ACS data by state:  56%|████████████████████████████▌                      | 28/50 [00:27<00:17,  1.28it/s]"
     ]
    },
    {
     "name": "stdout",
     "output_type": "stream",
     "text": [
      "✅ State 32: 779 tracts fetched\n"
     ]
    },
    {
     "name": "stderr",
     "output_type": "stream",
     "text": [
      "Downloading ACS data by state:  58%|█████████████████████████████▌                     | 29/50 [00:28<00:15,  1.36it/s]"
     ]
    },
    {
     "name": "stdout",
     "output_type": "stream",
     "text": [
      "✅ State 33: 350 tracts fetched\n"
     ]
    },
    {
     "name": "stderr",
     "output_type": "stream",
     "text": [
      "Downloading ACS data by state:  60%|██████████████████████████████▌                    | 30/50 [00:28<00:16,  1.24it/s]"
     ]
    },
    {
     "name": "stdout",
     "output_type": "stream",
     "text": [
      "✅ State 34: 2181 tracts fetched\n"
     ]
    },
    {
     "name": "stderr",
     "output_type": "stream",
     "text": [
      "Downloading ACS data by state:  62%|███████████████████████████████▌                   | 31/50 [00:29<00:14,  1.28it/s]"
     ]
    },
    {
     "name": "stdout",
     "output_type": "stream",
     "text": [
      "✅ State 35: 612 tracts fetched\n"
     ]
    },
    {
     "name": "stderr",
     "output_type": "stream",
     "text": [
      "Downloading ACS data by state:  64%|████████████████████████████████▋                  | 32/50 [00:31<00:18,  1.02s/it]"
     ]
    },
    {
     "name": "stdout",
     "output_type": "stream",
     "text": [
      "✅ State 36: 5411 tracts fetched\n"
     ]
    },
    {
     "name": "stderr",
     "output_type": "stream",
     "text": [
      "Downloading ACS data by state:  66%|█████████████████████████████████▋                 | 33/50 [00:32<00:17,  1.04s/it]"
     ]
    },
    {
     "name": "stdout",
     "output_type": "stream",
     "text": [
      "✅ State 37: 2672 tracts fetched\n"
     ]
    },
    {
     "name": "stderr",
     "output_type": "stream",
     "text": [
      "Downloading ACS data by state:  68%|██████████████████████████████████▋                | 34/50 [00:33<00:15,  1.02it/s]"
     ]
    },
    {
     "name": "stdout",
     "output_type": "stream",
     "text": [
      "✅ State 38: 228 tracts fetched\n"
     ]
    },
    {
     "name": "stderr",
     "output_type": "stream",
     "text": [
      "Downloading ACS data by state:  70%|███████████████████████████████████▋               | 35/50 [00:34<00:15,  1.04s/it]"
     ]
    },
    {
     "name": "stdout",
     "output_type": "stream",
     "text": [
      "✅ State 39: 3168 tracts fetched\n"
     ]
    },
    {
     "name": "stderr",
     "output_type": "stream",
     "text": [
      "Downloading ACS data by state:  72%|████████████████████████████████████▋              | 36/50 [00:35<00:13,  1.03it/s]"
     ]
    },
    {
     "name": "stdout",
     "output_type": "stream",
     "text": [
      "✅ State 40: 1205 tracts fetched\n"
     ]
    },
    {
     "name": "stderr",
     "output_type": "stream",
     "text": [
      "Downloading ACS data by state:  74%|█████████████████████████████████████▋             | 37/50 [00:35<00:12,  1.08it/s]"
     ]
    },
    {
     "name": "stdout",
     "output_type": "stream",
     "text": [
      "✅ State 41: 1001 tracts fetched\n"
     ]
    },
    {
     "name": "stderr",
     "output_type": "stream",
     "text": [
      "Downloading ACS data by state:  76%|██████████████████████████████████████▊            | 38/50 [00:37<00:12,  1.06s/it]"
     ]
    },
    {
     "name": "stdout",
     "output_type": "stream",
     "text": [
      "✅ State 42: 3446 tracts fetched\n"
     ]
    },
    {
     "name": "stderr",
     "output_type": "stream",
     "text": [
      "Downloading ACS data by state:  78%|███████████████████████████████████████▊           | 39/50 [00:38<00:10,  1.07it/s]"
     ]
    },
    {
     "name": "stdout",
     "output_type": "stream",
     "text": [
      "✅ State 44: 250 tracts fetched\n"
     ]
    },
    {
     "name": "stderr",
     "output_type": "stream",
     "text": [
      "Downloading ACS data by state:  80%|████████████████████████████████████████▊          | 40/50 [00:38<00:09,  1.10it/s]"
     ]
    },
    {
     "name": "stdout",
     "output_type": "stream",
     "text": [
      "✅ State 45: 1323 tracts fetched\n"
     ]
    },
    {
     "name": "stderr",
     "output_type": "stream",
     "text": [
      "Downloading ACS data by state:  82%|█████████████████████████████████████████▊         | 41/50 [00:39<00:07,  1.17it/s]"
     ]
    },
    {
     "name": "stdout",
     "output_type": "stream",
     "text": [
      "✅ State 46: 242 tracts fetched\n"
     ]
    },
    {
     "name": "stderr",
     "output_type": "stream",
     "text": [
      "Downloading ACS data by state:  84%|██████████████████████████████████████████▊        | 42/50 [00:40<00:07,  1.13it/s]"
     ]
    },
    {
     "name": "stdout",
     "output_type": "stream",
     "text": [
      "✅ State 47: 1701 tracts fetched\n"
     ]
    },
    {
     "name": "stderr",
     "output_type": "stream",
     "text": [
      "Downloading ACS data by state:  86%|███████████████████████████████████████████▊       | 43/50 [00:42<00:08,  1.17s/it]"
     ]
    },
    {
     "name": "stdout",
     "output_type": "stream",
     "text": [
      "✅ State 48: 6896 tracts fetched\n"
     ]
    },
    {
     "name": "stderr",
     "output_type": "stream",
     "text": [
      "Downloading ACS data by state:  88%|████████████████████████████████████████████▉      | 44/50 [00:43<00:06,  1.04s/it]"
     ]
    },
    {
     "name": "stdout",
     "output_type": "stream",
     "text": [
      "✅ State 49: 716 tracts fetched\n"
     ]
    },
    {
     "name": "stderr",
     "output_type": "stream",
     "text": [
      "Downloading ACS data by state:  90%|█████████████████████████████████████████████▉     | 45/50 [00:43<00:04,  1.06it/s]"
     ]
    },
    {
     "name": "stdout",
     "output_type": "stream",
     "text": [
      "✅ State 50: 193 tracts fetched\n"
     ]
    },
    {
     "name": "stderr",
     "output_type": "stream",
     "text": [
      "Downloading ACS data by state:  92%|██████████████████████████████████████████████▉    | 46/50 [00:45<00:04,  1.01s/it]"
     ]
    },
    {
     "name": "stdout",
     "output_type": "stream",
     "text": [
      "✅ State 51: 2198 tracts fetched\n"
     ]
    },
    {
     "name": "stderr",
     "output_type": "stream",
     "text": [
      "Downloading ACS data by state:  94%|███████████████████████████████████████████████▉   | 47/50 [00:46<00:03,  1.03s/it]"
     ]
    },
    {
     "name": "stdout",
     "output_type": "stream",
     "text": [
      "✅ State 53: 1784 tracts fetched\n"
     ]
    },
    {
     "name": "stderr",
     "output_type": "stream",
     "text": [
      "Downloading ACS data by state:  96%|████████████████████████████████████████████████▉  | 48/50 [00:46<00:01,  1.05it/s]"
     ]
    },
    {
     "name": "stdout",
     "output_type": "stream",
     "text": [
      "✅ State 54: 546 tracts fetched\n"
     ]
    },
    {
     "name": "stderr",
     "output_type": "stream",
     "text": [
      "Downloading ACS data by state:  98%|█████████████████████████████████████████████████▉ | 49/50 [00:47<00:00,  1.08it/s]"
     ]
    },
    {
     "name": "stdout",
     "output_type": "stream",
     "text": [
      "✅ State 55: 1542 tracts fetched\n"
     ]
    },
    {
     "name": "stderr",
     "output_type": "stream",
     "text": [
      "Downloading ACS data by state: 100%|███████████████████████████████████████████████████| 50/50 [00:48<00:00,  1.03it/s]"
     ]
    },
    {
     "name": "stdout",
     "output_type": "stream",
     "text": [
      "✅ State 56: 160 tracts fetched\n"
     ]
    },
    {
     "name": "stderr",
     "output_type": "stream",
     "text": [
      "\n"
     ]
    }
   ],
   "source": [
    "frames = []\n",
    "for s in tqdm(state_fips_list, desc=\"Downloading ACS data by state\"):\n",
    "    try:\n",
    "        temp = get_state_tracts(s)\n",
    "        frames.append(temp)\n",
    "        print(f\"✅ State {s}: {temp.shape[0]} tracts fetched\")\n",
    "    except Exception as e:\n",
    "        print(f\"⚠️ State {s} failed: {e}\")"
   ]
  },
  {
   "cell_type": "code",
   "execution_count": 5,
   "id": "69be86ae-ff57-487c-8754-eb6767db6380",
   "metadata": {},
   "outputs": [
    {
     "name": "stdout",
     "output_type": "stream",
     "text": [
      "\n",
      "Total tracts fetched: 84,209\n"
     ]
    }
   ],
   "source": [
    "census_raw = pd.concat(frames, ignore_index=True)\n",
    "print(f\"\\nTotal tracts fetched: {len(census_raw):,}\")"
   ]
  },
  {
   "cell_type": "code",
   "execution_count": 6,
   "id": "97a1848b-abb5-40c6-b852-db0b300124a5",
   "metadata": {},
   "outputs": [],
   "source": [
    "census_raw = census_raw.rename(columns={\n",
    "    'B19013_001E':'median_income',\n",
    "    'B01003_001E':'population',\n",
    "    'B17001_002E':'poverty_population',\n",
    "    'B15003_001E':'total_education',\n",
    "    'B15003_022E':'bachelor',\n",
    "    'B15003_023E':'master',\n",
    "    'B15003_024E':'professional',\n",
    "    'B15003_025E':'doctorate'\n",
    "})\n",
    "\n",
    "census_raw['bachelor_or_higher'] = (\n",
    "    census_raw[['bachelor','master','professional','doctorate']].sum(axis=1)\n",
    ")\n",
    "census_raw['education_rate'] = census_raw['bachelor_or_higher'] / census_raw['total_education']\n",
    "census_raw['poverty_rate']   = census_raw['poverty_population'] / census_raw['population']\n",
    "\n",
    "# Create full GEOID (state + county + tract)\n",
    "census_raw['geoid'] = census_raw['state_fips'] + census_raw['county_fips'] + census_raw['tract_id']"
   ]
  },
  {
   "cell_type": "code",
   "execution_count": 7,
   "id": "ce466dcd-64a9-4828-8e82-592537b3a096",
   "metadata": {},
   "outputs": [],
   "source": [
    "census_all = census_raw[['geoid','state_fips','county_fips',\n",
    "                         'median_income','population','education_rate','poverty_rate']].copy()"
   ]
  },
  {
   "cell_type": "code",
   "execution_count": 8,
   "id": "e3e1c0df-62d1-41eb-ba6b-910b354b3b6e",
   "metadata": {},
   "outputs": [],
   "source": [
    "state_name_map = {\n",
    "    '01':'Alabama','02':'Alaska','04':'Arizona','05':'Arkansas','06':'California',\n",
    "    '08':'Colorado','09':'Connecticut','10':'Delaware','12':'Florida','13':'Georgia',\n",
    "    '15':'Hawaii','16':'Idaho','17':'Illinois','18':'Indiana','19':'Iowa','20':'Kansas',\n",
    "    '21':'Kentucky','22':'Louisiana','23':'Maine','24':'Maryland','25':'Massachusetts',\n",
    "    '26':'Michigan','27':'Minnesota','28':'Mississippi','29':'Missouri','30':'Montana',\n",
    "    '31':'Nebraska','32':'Nevada','33':'New Hampshire','34':'New Jersey','35':'New Mexico',\n",
    "    '36':'New York','37':'North Carolina','38':'North Dakota','39':'Ohio','40':'Oklahoma',\n",
    "    '41':'Oregon','42':'Pennsylvania','44':'Rhode Island','45':'South Carolina',\n",
    "    '46':'South Dakota','47':'Tennessee','48':'Texas','49':'Utah','50':'Vermont',\n",
    "    '51':'Virginia','53':'Washington','54':'West Virginia','55':'Wisconsin','56':'Wyoming'\n",
    "}\n",
    "census_all['state_name'] = census_all['state_fips'].map(state_name_map)\n"
   ]
  },
  {
   "cell_type": "code",
   "execution_count": 9,
   "id": "692040f5-fd5b-466c-918e-4e934faff6e7",
   "metadata": {},
   "outputs": [],
   "source": [
    "census_all = census_all[['geoid','state_fips','state_name','county_fips',\n",
    "                         'median_income','population','education_rate','poverty_rate']]"
   ]
  },
  {
   "cell_type": "code",
   "execution_count": 10,
   "id": "903b8326-3877-4e0f-94b1-2ff71f5c70e4",
   "metadata": {},
   "outputs": [],
   "source": [
    "census_all = census_all.dropna(subset=['median_income','population'])"
   ]
  },
  {
   "cell_type": "code",
   "execution_count": 11,
   "id": "20991dce-6dfd-4bdb-afcb-936b2fcc2f82",
   "metadata": {},
   "outputs": [
    {
     "name": "stdout",
     "output_type": "stream",
     "text": [
      "\n",
      "✅ Saved final ACS 2022 dataset → census_USA_2022.csv (84,209 rows)\n",
      "✅ Columns: ['geoid', 'state_fips', 'state_name', 'county_fips', 'median_income', 'population', 'education_rate', 'poverty_rate']\n",
      "📍 Example preview:\n",
      "         geoid state_fips state_name county_fips  median_income  population  \\\n",
      "0  01001020100         01    Alabama         001          60563        1865   \n",
      "1  01001020200         01    Alabama         001          57460        1861   \n",
      "2  01001020300         01    Alabama         001          77371        3492   \n",
      "3  01001020400         01    Alabama         001          73191        3987   \n",
      "4  01001020501         01    Alabama         001          79953        4121   \n",
      "\n",
      "   education_rate  poverty_rate  \n",
      "0        0.233017      0.153351  \n",
      "1        0.185085      0.056421  \n",
      "2        0.153746      0.100802  \n",
      "3        0.343841      0.102333  \n",
      "4        0.395199      0.078379  \n"
     ]
    }
   ],
   "source": [
    "census_all.to_csv(\"census_USA_2022.csv\", index=False)\n",
    "print(f\"\\n✅ Saved final ACS 2022 dataset → census_USA_2022.csv ({len(census_all):,} rows)\")\n",
    "print(\"✅ Columns:\", list(census_all.columns))\n",
    "print(\"📍 Example preview:\")\n",
    "print(census_all.head())"
   ]
  },
  {
   "cell_type": "markdown",
   "id": "0d2df9ca-2d5c-4748-9b9d-c70bdeb1132d",
   "metadata": {},
   "source": [
    "# BLS Wage Data\n"
   ]
  },
  {
   "cell_type": "code",
   "execution_count": null,
   "id": "f937a7fc-355c-4d97-9520-71c47829eec3",
   "metadata": {},
   "outputs": [],
   "source": [
    "import requests\n",
    "import pandas as pd\n",
    "from tqdm import tqdm\n",
    "import time"
   ]
  },
  {
   "cell_type": "code",
   "execution_count": null,
   "id": "a505d9aa-f1d2-4600-abe7-8250925e2e7b",
   "metadata": {},
   "outputs": [],
   "source": []
  }
 ],
 "metadata": {
  "kernelspec": {
   "display_name": "Python 3 (ipykernel)",
   "language": "python",
   "name": "python3"
  },
  "language_info": {
   "codemirror_mode": {
    "name": "ipython",
    "version": 3
   },
   "file_extension": ".py",
   "mimetype": "text/x-python",
   "name": "python",
   "nbconvert_exporter": "python",
   "pygments_lexer": "ipython3",
   "version": "3.11.7"
  }
 },
 "nbformat": 4,
 "nbformat_minor": 5
}
